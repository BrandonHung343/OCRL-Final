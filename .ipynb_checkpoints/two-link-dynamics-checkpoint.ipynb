{
 "cells": [
  {
   "cell_type": "code",
   "execution_count": 1,
   "id": "4fd80350",
   "metadata": {},
   "outputs": [],
   "source": [
    "using LinearAlgebra\n",
    "using Symbolics"
   ]
  },
  {
   "cell_type": "code",
   "execution_count": 34,
   "id": "bca68fd8",
   "metadata": {},
   "outputs": [
    {
     "data": {
      "text/plain": [
       "0.08333333333333333"
      ]
     },
     "execution_count": 34,
     "metadata": {},
     "output_type": "execute_result"
    }
   ],
   "source": [
    "h = 0.01\n",
    "g = 9.81\n",
    "m1 = 1.0\n",
    "m2 = 1.0\n",
    "ℓ1 = 1.0\n",
    "ℓ2 = 1.0\n",
    "J1 = (1.0/12)*m1*ℓ1*ℓ1\n",
    "J2 = (1.0/12)*m2*ℓ2*ℓ2"
   ]
  },
  {
   "cell_type": "code",
   "execution_count": 35,
   "id": "91e01bdc",
   "metadata": {},
   "outputs": [
    {
     "data": {
      "text/plain": [
       "foot_kinematics (generic function with 1 method)"
      ]
     },
     "execution_count": 35,
     "metadata": {},
     "output_type": "execute_result"
    }
   ],
   "source": [
    "#Kinematics Functions\n",
    "\n",
    "function link2_kinematics(q)\n",
    "    x1 = q[1]\n",
    "    y1 = q[2]\n",
    "    θ1 = q[3]\n",
    "    θ2 = q[4]\n",
    "    \n",
    "    x2 = x1 - 0.5*ℓ1*sin(θ1) - 0.5*ℓ2*sin(θ2)\n",
    "    y2 = y1 + 0.5*ℓ1*cos(θ1) + 0.5*ℓ2*cos(θ2)\n",
    "    \n",
    "    return [x2; y2]\n",
    "end\n",
    "\n",
    "function foot_kinematics(q)\n",
    "    x1 = q[1]\n",
    "    y1 = q[2]\n",
    "    θ1 = q[3]\n",
    "    \n",
    "    xf = x1 + 0.5*ℓ1*sin(θ1)\n",
    "    yf = y1 - 0.5*ℓ1*cos(θ1)\n",
    "    \n",
    "    return [xf; yf]\n",
    "end"
   ]
  },
  {
   "cell_type": "code",
   "execution_count": 36,
   "id": "fc70ca22",
   "metadata": {},
   "outputs": [
    {
     "data": {
      "text/plain": [
       "#35 (generic function with 1 method)"
      ]
     },
     "execution_count": 36,
     "metadata": {},
     "output_type": "execute_result"
    }
   ],
   "source": [
    "#Fast Kinematics Functions\n",
    "\n",
    "@variables q[1:4]\n",
    "@variables q̇[1:4]\n",
    "@variables u[1:2] #torque inputs on links 1 and 2\n",
    "@variables f[1:2] #contact force on foot (end of link 1)\n",
    "\n",
    "klink2 = link2_kinematics(q)\n",
    "klink2_expr = Symbolics.build_function(klink2, q)\n",
    "k2_func = eval(klink2_expr[1])\n",
    "\n",
    "kfoot = foot_kinematics(q)\n",
    "kfoot_expr = Symbolics.build_function(kfoot, q)\n",
    "kfoot_func = eval(kfoot_expr[1])"
   ]
  },
  {
   "cell_type": "code",
   "execution_count": 37,
   "id": "11ee4b36",
   "metadata": {},
   "outputs": [
    {
     "data": {
      "text/plain": [
       "#39 (generic function with 1 method)"
      ]
     },
     "execution_count": 37,
     "metadata": {},
     "output_type": "execute_result"
    }
   ],
   "source": [
    "#Kinematics Jacobians\n",
    "\n",
    "J2 = Symbolics.jacobian(klink2, q, simplify = true)\n",
    "Jf = Symbolics.jacobian(kfoot, q, simplify = true)\n",
    "\n",
    "J2_expr = Symbolics.build_function(J2, q)\n",
    "Jf_expr = Symbolics.build_function(Jf, q)\n",
    "\n",
    "J2_func = eval(J2_expr[1])\n",
    "Jf_func = eval(Jf_expr[1])"
   ]
  },
  {
   "cell_type": "code",
   "execution_count": 38,
   "id": "0c31cb36",
   "metadata": {},
   "outputs": [
    {
     "data": {
      "text/plain": [
       "lagrangian (generic function with 1 method)"
      ]
     },
     "execution_count": 38,
     "metadata": {},
     "output_type": "execute_result"
    }
   ],
   "source": [
    "#Lagrangian\n",
    "function lagrangian(q, q̇)\n",
    "    L = 0.0\n",
    "\n",
    "    # Link 1\n",
    "    v1 = \n",
    "    L += 0.5*m1*transpose(q̇[1:2])*q̇[1:2] + 0.5*J1*q̇[3]*q̇[3] #kinetic energy\n",
    "    L -= m1*g*q[2] #potential energy\n",
    "\n",
    "    # Link 2\n",
    "    v2 = J2_func(q)*q̇\n",
    "    L += 0.5*m2*transpose(v2)*v2\n",
    "    L -= m2*g*k2_func(q)[2]\n",
    "\n",
    "    return L\n",
    "end"
   ]
  },
  {
   "cell_type": "code",
   "execution_count": 39,
   "id": "7ef38a24",
   "metadata": {},
   "outputs": [
    {
     "data": {
      "text/plain": [
       "#41 (generic function with 1 method)"
      ]
     },
     "execution_count": 39,
     "metadata": {},
     "output_type": "execute_result"
    }
   ],
   "source": [
    "#Lagrangian derivatives\n",
    "L = lagrangian(q, q̇)\n",
    "dLq = Symbolics.gradient(L, q, simplify = true)\n",
    "dLq̇ = Symbolics.gradient(L, q̇, simplify = true)\n",
    "d2L = Symbolics.hessian(L, [q; q̇], simplify = true)\n",
    "\n",
    "#mass matrix\n",
    "M = d2L[4 .+ (1:4), 4 .+ (1:4)]\n",
    "M = simplify.(M)\n",
    "\n",
    "#dynamics bias\n",
    "C = d2L[4 .+ (1:4), 1:4] * q̇ - dLq\n",
    "C = simplify.(C)\n",
    "\n",
    "#input jacobian\n",
    "B = [0.0 0.0; 0.0 0.0; 1.0 0.0; 0.0 1.0]\n",
    "\n",
    "# continuous-time dynamics\n",
    "ẋ = [q̇; M\\(B*u + transpose(Jf)*f - C)]\n",
    "ẋ = simplify.(ẋ)\n",
    "\n",
    "ẋ_expr = Symbolics.build_function(ẋ, [q; q̇], u, f)\n",
    "\n",
    "dynamics = eval(ẋ_expr[1])"
   ]
  },
  {
   "cell_type": "code",
   "execution_count": 88,
   "id": "fcfabae2",
   "metadata": {},
   "outputs": [
    {
     "data": {
      "text/plain": [
       "8-element Vector{Float64}:\n",
       " 0.0\n",
       " 0.0\n",
       " 0.0\n",
       " 0.0\n",
       " 0.0\n",
       " 0.0\n",
       " 0.0\n",
       " 0.0"
      ]
     },
     "execution_count": 88,
     "metadata": {},
     "output_type": "execute_result"
    }
   ],
   "source": [
    "q0 = [0.0; ℓ1/2; 0; 0]\n",
    "q̇0 = [0.0; 0; 0; 0]\n",
    "x0 = [q0; q̇0]\n",
    "u0 = [0.0; 0.0]\n",
    "f0 = [0.0; 2*9.81] #gravity compensation\n",
    "\n",
    "dynamics(x0,u0,f0) #should be zero"
   ]
  },
  {
   "cell_type": "code",
   "execution_count": 89,
   "id": "0d5f51b8",
   "metadata": {},
   "outputs": [
    {
     "data": {
      "text/plain": [
       "#59 (generic function with 1 method)"
      ]
     },
     "execution_count": 89,
     "metadata": {},
     "output_type": "execute_result"
    }
   ],
   "source": [
    "# continuous-time dynamics derivatives\n",
    "\n",
    "dẋ = Symbolics.jacobian(ẋ, [q; q̇; u; f]);\n",
    "dx = simplify(dẋ[:,1:8])\n",
    "du = simplify(dẋ[:,9:10])\n",
    "df = simplify(dẋ[:,11:12])\n",
    "\n",
    "Ac_expr = Symbolics.build_function(dx, [q; q̇], u, f)\n",
    "Bc_expr = Symbolics.build_function(du, [q; q̇], u, f)\n",
    "Cc_expr = Symbolics.build_function(df, [q; q̇], u, f)\n",
    "\n",
    "Ac = eval(Ac_expr[1])\n",
    "Bc = eval(Bc_expr[1])\n",
    "Cc = eval(Cc_expr[1])"
   ]
  },
  {
   "cell_type": "code",
   "execution_count": 90,
   "id": "a35db58b",
   "metadata": {},
   "outputs": [
    {
     "data": {
      "text/plain": [
       "implicit_euler (generic function with 1 method)"
      ]
     },
     "execution_count": 90,
     "metadata": {},
     "output_type": "execute_result"
    }
   ],
   "source": [
    "#Discrete-time dynamics with foot pinned at the origin\n",
    "function implicit_euler(x,u)\n",
    "    xn = x\n",
    "    f = zeros(2)\n",
    "    \n",
    "    r = [xn - x - h.*dynamics(xn,u,f); foot_kinematics(xn)]\n",
    "    \n",
    "    while maximum(abs.(r)) > 1e-12\n",
    "        dr = [I-h.*Ac(xn,u,f) -h.*Cc(xn,u,f); Jf_func(xn[1:4]) zeros(2,6)]\n",
    "        dz = -dr\\r\n",
    "        xn += dz[1:8]\n",
    "        f += dz[9:10]\n",
    "        r = [xn - x - h.*dynamics(xn,u,f); foot_kinematics(xn)]\n",
    "    end\n",
    "    \n",
    "    return xn\n",
    "end"
   ]
  },
  {
   "cell_type": "code",
   "execution_count": 102,
   "id": "cd9fa2a2",
   "metadata": {},
   "outputs": [],
   "source": [
    "#q0 = [0.0; ℓ1/2; 0; 1e-5] #tiny perturbation from upright\n",
    "q0 = [0.0; -ℓ1/2; pi; pi+1e-3] #tiny perturbation from hanging down\n",
    "q̇0 = [0.0; 0; 0; 0]\n",
    "x0 = [q0; q̇0]\n",
    "u0 = [0.0; 0.0]\n",
    "\n",
    "N = 1000\n",
    "\n",
    "xhist = zeros(8,N)\n",
    "xhist[:,1] .= x0\n",
    "\n",
    "for k = 1:(N-1)\n",
    "    xhist[:,k+1] .= implicit_euler(xhist[:,k],[1e-1; 0])\n",
    "end"
   ]
  },
  {
   "cell_type": "code",
   "execution_count": 103,
   "id": "f3131086",
   "metadata": {},
   "outputs": [],
   "source": [
    "using PyPlot"
   ]
  },
  {
   "cell_type": "code",
   "execution_count": 104,
   "id": "30fc1713",
   "metadata": {},
   "outputs": [
    {
     "data": {
      "image/png": "[encoded data removed]",
      "text/plain": [
       "Figure(PyObject <Figure size 640x480 with 1 Axes>)"
      ]
     },
     "metadata": {},
     "output_type": "display_data"
    },
    {
     "data": {
      "text/plain": [
       "1-element Vector{PyCall.PyObject}:\n",
       " PyObject <matplotlib.lines.Line2D object at 0x7f8c949f1d00>"
      ]
     },
     "execution_count": 104,
     "metadata": {},
     "output_type": "execute_result"
    }
   ],
   "source": [
    "plot(xhist[3,:])\n",
    "plot(xhist[4,:])"
   ]
  },
  {
   "cell_type": "code",
   "execution_count": 101,
   "id": "0e4ac966",
   "metadata": {},
   "outputs": [
    {
     "data": {
      "image/png": "[encoded data removed]",
      "text/plain": [
       "Figure(PyObject <Figure size 640x480 with 1 Axes>)"
      ]
     },
     "metadata": {},
     "output_type": "display_data"
    },
    {
     "data": {
      "text/plain": [
       "1-element Vector{PyCall.PyObject}:\n",
       " PyObject <matplotlib.lines.Line2D object at 0x7f8c95157d90>"
      ]
     },
     "execution_count": 101,
     "metadata": {},
     "output_type": "execute_result"
    }
   ],
   "source": [
    "plot(xhist[1,:])\n",
    "plot(xhist[2,:])"
   ]
  },
  {
   "cell_type": "code",
   "execution_count": null,
   "id": "80641472",
   "metadata": {},
   "outputs": [],
   "source": []
  }
 ],
 "metadata": {
  "kernelspec": {
   "display_name": "Julia 1.5.3",
   "language": "julia",
   "name": "julia-1.5"
  },
  "language_info": {
   "file_extension": ".jl",
   "mimetype": "application/julia",
   "name": "julia",
   "version": "1.5.3"
  }
 },
 "nbformat": 4,
 "nbformat_minor": 5
}
